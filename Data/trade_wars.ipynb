{
 "cells": [
  {
   "cell_type": "markdown",
   "metadata": {},
   "source": [
    "# RL TRADE WARS: INVESTMENTS ACROSS TIMEFRAMES"
   ]
  },
  {
   "cell_type": "markdown",
   "metadata": {},
   "source": [
    "## Imports"
   ]
  },
  {
   "cell_type": "code",
   "execution_count": 1,
   "metadata": {},
   "outputs": [],
   "source": [
    "import numpy as np\n",
    "#import yfinance\n",
    "import requests\n",
    "import pandas as pd\n",
    "from datetime import datetime\n"
   ]
  },
  {
   "cell_type": "markdown",
   "metadata": {},
   "source": [
    "## Data"
   ]
  },
  {
   "cell_type": "markdown",
   "metadata": {},
   "source": [
    "### Download, Pre-processing and Arranging"
   ]
  },
  {
   "cell_type": "code",
   "execution_count": 2,
   "metadata": {},
   "outputs": [
    {
     "name": "stdout",
     "output_type": "stream",
     "text": [
      "100\n"
     ]
    }
   ],
   "source": [
    "stock_symbols = [\n",
    "    \"AAPL\", \"ABBV\", \"ABT\", \"ACN\", \"ADBE\", \"AIG\", \"AMGN\", \"AMT\", \"AMZN\", \"AVGO\",\n",
    "    \"AXP\", \"BA\", \"BAC\", \"BIIB\", \"BK\", \"BKNG\", \"BLK\", \"BMY\", \"BRK.B\", \"C\",\n",
    "    \"CAT\", \"CHTR\", \"CL\", \"CMCSA\", \"COF\", \"COP\", \"COST\", \"CRM\", \"CSCO\", \"CVX\",\n",
    "    \"DHR\", \"DIS\", \"DOW\", \"DUK\", \"EMR\", \"EXC\", \"F\", \"FB\", \"FDX\", \"GD\",\n",
    "    \"GE\", \"GILD\", \"GM\", \"GOOG\", \"GOOGL\", \"GS\", \"HD\", \"HON\", \"IBM\", \"INTC\",\n",
    "    \"JNJ\", \"JPM\", \"KHC\", \"KO\", \"LIN\", \"LLY\", \"LMT\", \"LOW\", \"MA\", \"MCD\",\n",
    "    \"MDLZ\", \"MDT\", \"MET\", \"MMM\", \"MO\", \"MRK\", \"MS\", \"MSFT\", \"NEE\", \"NFLX\",\n",
    "    \"NKE\", \"NVDA\", \"ORCL\", \"PEP\", \"PFE\", \"PG\", \"PM\", \"PYPL\", \"QCOM\", \"RTX\",\n",
    "    \"SBUX\", \"SLB\", \"SO\", \"SPG\", \"T\", \"TGT\", \"TMO\", \"TXN\", \"UNH\", \"UNP\",\n",
    "    \"UPS\", \"USB\", \"V\", \"VZ\", \"WBA\", \"WFC\", \"WMT\", \"XOM\",  # Initial list\n",
    "    \"CRM\", \"TSLA\"  # Adding to complete the list, note that the composition can change.\n",
    "]\n",
    "\n",
    "print(len(stock_symbols))"
   ]
  },
  {
   "cell_type": "code",
   "execution_count": 3,
   "metadata": {},
   "outputs": [
    {
     "name": "stdout",
     "output_type": "stream",
     "text": [
      "Data saved for AAPL\n",
      "Data saved for ABBV\n",
      "Data saved for ABT\n",
      "Data saved for ACN\n",
      "Data saved for ADBE\n",
      "Data saved for AIG\n",
      "Data saved for AMGN\n",
      "Data saved for AMT\n",
      "Data saved for AMZN\n",
      "Data saved for AVGO\n",
      "Data saved for AXP\n",
      "Data saved for BA\n",
      "Data saved for BAC\n",
      "Data saved for BIIB\n",
      "Data saved for BK\n",
      "Data saved for BKNG\n",
      "Data saved for BLK\n",
      "Data saved for BMY\n",
      "Data saved for BRK.B\n",
      "Data saved for C\n",
      "Data saved for CAT\n",
      "Data saved for CHTR\n",
      "Data saved for CL\n",
      "Data saved for CMCSA\n",
      "Data saved for COF\n"
     ]
    }
   ],
   "source": [
    "\n",
    "API_KEY = 'KILN4SBYCOZGFXQ0'\n",
    "\n",
    "stock_symbols = [\n",
    "    \"AAPL\", \"ABBV\", \"ABT\", \"ACN\", \"ADBE\", \"AIG\", \"AMGN\", \"AMT\", \"AMZN\", \"AVGO\",\n",
    "    \"AXP\", \"BA\", \"BAC\", \"BIIB\", \"BK\", \"BKNG\", \"BLK\", \"BMY\", \"BRK.B\", \"C\",\n",
    "    \"CAT\", \"CHTR\", \"CL\", \"CMCSA\", \"COF\"\n",
    "]\n",
    "\n",
    "\n",
    "API_URL_TEMPLATE = 'https://www.alphavantage.co/query?function=TIME_SERIES_DAILY&symbol={symbol}&outputsize=full&apikey={api_key}'\n",
    "\n",
    "\n",
    "for symbol in stock_symbols:\n",
    "    api_url = API_URL_TEMPLATE.format(symbol=symbol, api_key = API_KEY)\n",
    "\n",
    "    response = requests.get(api_url)\n",
    "    data = response.json()\n",
    "\n",
    "    time_series = 'Time Series (Daily)'\n",
    "    \n",
    "    if time_series in data:\n",
    "        df = pd.DataFrame(data[time_series]).T\n",
    "        df.columns = ['open', 'high', 'low', 'close', 'volume']\n",
    "        df.index = pd.to_datetime(df.index)\n",
    "        df = df.astype({'open' : 'float', 'high' : 'float', 'low' : 'float', 'close' : 'float', 'volume' : 'float'})\n",
    "        \n",
    "        start_date = datetime(2022, 1, 1)\n",
    "        end_date = datetime(2024, 1, 1)\n",
    "\n",
    "        custom_df = df[(df.index >= start_date) & (df.index <= end_date)]\n",
    "        custom_df.to_csv(f'{symbol}_data.csv')\n",
    "        \n",
    "        print(f\"Data saved for {symbol}\")\n",
    "    else:\n",
    "        print(f\"Failed to fetch data for {symbol}. Please check the symbol or your API limit.\")\n",
    "\n"
   ]
  },
  {
   "cell_type": "code",
   "execution_count": 8,
   "metadata": {},
   "outputs": [
    {
     "name": "stdout",
     "output_type": "stream",
     "text": [
      "Data saved for COP\n",
      "Data saved for COST\n",
      "Data saved for CRM\n",
      "Data saved for CSCO\n",
      "Data saved for CVX\n",
      "Data saved for DHR\n",
      "Data saved for DIS\n",
      "Data saved for DOW\n",
      "Data saved for DUK\n",
      "Data saved for EMR\n",
      "Data saved for EXC\n",
      "Data saved for F\n",
      "Failed to fetch data for FB. Please check the symbol or your API limit.\n",
      "Data saved for FDX\n",
      "Data saved for GD\n",
      "Data saved for GE\n",
      "Data saved for GILD\n",
      "Data saved for GM\n",
      "Data saved for GOOG\n",
      "Data saved for GOOGL\n",
      "Data saved for GS\n",
      "Data saved for HD\n",
      "Data saved for HON\n",
      "Data saved for IBM\n",
      "Data saved for INTC\n"
     ]
    }
   ],
   "source": [
    "\n",
    "API_KEY = 'KILN4SBYCOZGFXQ0'\n",
    "\n",
    "stock_symbols = [\n",
    "    \"COP\", \"COST\", \"CRM\", \"CSCO\", \"CVX\", \"DHR\", \"DIS\", \"DOW\", \"DUK\", \"EMR\", \n",
    "    \"EXC\", \"F\", \"FB\", \"FDX\", \"GD\", \"GE\", \"GILD\", \"GM\", \"GOOG\", \"GOOGL\",\n",
    "    \"GS\", \"HD\", \"HON\", \"IBM\", \"INTC\",\n",
    "]\n",
    "\n",
    "\n",
    "API_URL_TEMPLATE = 'https://www.alphavantage.co/query?function=TIME_SERIES_DAILY&symbol={symbol}&outputsize=full&apikey={api_key}'\n",
    "\n",
    "\n",
    "for symbol in stock_symbols:\n",
    "    api_url = API_URL_TEMPLATE.format(symbol=symbol, api_key = API_KEY)\n",
    "\n",
    "    response = requests.get(api_url)\n",
    "    data = response.json()\n",
    "\n",
    "    time_series = 'Time Series (Daily)'\n",
    "    \n",
    "    if time_series in data:\n",
    "        df = pd.DataFrame(data[time_series]).T\n",
    "        df.columns = ['open', 'high', 'low', 'close', 'volume']\n",
    "        df.index = pd.to_datetime(df.index)\n",
    "        df = df.astype({'open' : 'float', 'high' : 'float', 'low' : 'float', 'close' : 'float', 'volume' : 'float'})\n",
    "        \n",
    "        start_date = datetime(2022, 1, 1)\n",
    "        end_date = datetime(2024, 1, 1)\n",
    "\n",
    "        custom_df = df[(df.index >= start_date) & (df.index <= end_date)]\n",
    "        custom_df.to_csv(f'{symbol}_data.csv')\n",
    "        \n",
    "        print(f\"Data saved for {symbol}\")\n",
    "    else:\n",
    "        print(f\"Failed to fetch data for {symbol}. Please check the symbol or your API limit.\")\n",
    "\n"
   ]
  },
  {
   "cell_type": "code",
   "execution_count": 3,
   "metadata": {},
   "outputs": [
    {
     "name": "stdout",
     "output_type": "stream",
     "text": [
      "Data saved for JNJ\n",
      "Data saved for JPM\n",
      "Data saved for KHC\n",
      "Data saved for KO\n",
      "Data saved for LIN\n",
      "Data saved for LLY\n",
      "Data saved for LMT\n",
      "Data saved for LOW\n",
      "Data saved for MA\n",
      "Data saved for MCD\n",
      "Data saved for MDLZ\n",
      "Data saved for MDT\n",
      "Data saved for MET\n",
      "Data saved for MMM\n",
      "Data saved for MO\n",
      "Data saved for MRK\n",
      "Data saved for MS\n",
      "Data saved for MSFT\n",
      "Data saved for NEE\n",
      "Data saved for NFLX\n",
      "Data saved for NKE\n",
      "Data saved for NVDA\n",
      "Data saved for ORCL\n",
      "Data saved for PEP\n",
      "Data saved for PFE\n"
     ]
    }
   ],
   "source": [
    "\n",
    "API_KEY = 'LFWOLH7AP314R5ZF'\n",
    "\n",
    "stock_symbols = [\n",
    "    \"JNJ\", \"JPM\", \"KHC\", \"KO\", \"LIN\", \"LLY\", \"LMT\", \"LOW\", \"MA\", \"MCD\",\n",
    "    \"MDLZ\", \"MDT\", \"MET\", \"MMM\", \"MO\", \"MRK\", \"MS\", \"MSFT\", \"NEE\", \"NFLX\",\n",
    "    \"NKE\", \"NVDA\", \"ORCL\", \"PEP\", \"PFE\"\n",
    "]\n",
    "\n",
    "\n",
    "API_URL_TEMPLATE = 'https://www.alphavantage.co/query?function=TIME_SERIES_DAILY&symbol={symbol}&outputsize=full&apikey={api_key}'\n",
    "\n",
    "\n",
    "for symbol in stock_symbols:\n",
    "    api_url = API_URL_TEMPLATE.format(symbol=symbol, api_key = API_KEY)\n",
    "\n",
    "    response = requests.get(api_url)\n",
    "    data = response.json()\n",
    "\n",
    "    time_series = 'Time Series (Daily)'\n",
    "    \n",
    "    if time_series in data:\n",
    "        df = pd.DataFrame(data[time_series]).T\n",
    "        df.columns = ['open', 'high', 'low', 'close', 'volume']\n",
    "        df.index = pd.to_datetime(df.index)\n",
    "        df = df.astype({'open' : 'float', 'high' : 'float', 'low' : 'float', 'close' : 'float', 'volume' : 'float'})\n",
    "        \n",
    "        start_date = datetime(2022, 1, 1)\n",
    "        end_date = datetime(2024, 1, 1)\n",
    "\n",
    "        custom_df = df[(df.index >= start_date) & (df.index <= end_date)]\n",
    "        custom_df.to_csv(f'{symbol}_data.csv')\n",
    "        \n",
    "        print(f\"Data saved for {symbol}\")\n",
    "    else:\n",
    "        print(f\"Failed to fetch data for {symbol}. Please check the symbol or your API limit.\")\n",
    "\n"
   ]
  },
  {
   "cell_type": "code",
   "execution_count": 2,
   "metadata": {},
   "outputs": [
    {
     "name": "stdout",
     "output_type": "stream",
     "text": [
      "Data saved for PG\n",
      "Data saved for PM\n",
      "Data saved for PYPL\n",
      "Data saved for QCOM\n",
      "Data saved for RTX\n",
      "Data saved for SBUX\n",
      "Data saved for SLB\n",
      "Data saved for SO\n",
      "Data saved for SPG\n",
      "Data saved for T\n",
      "Data saved for TGT\n",
      "Data saved for TMO\n",
      "Data saved for TXN\n",
      "Data saved for UNH\n",
      "Data saved for UNP\n",
      "Data saved for UPS\n",
      "Data saved for USB\n",
      "Data saved for V\n",
      "Data saved for VZ\n",
      "Data saved for WBA\n",
      "Data saved for WFC\n",
      "Data saved for WMT\n",
      "Data saved for XOM\n",
      "Data saved for CRM\n",
      "Data saved for TSLA\n"
     ]
    }
   ],
   "source": [
    "\n",
    "API_KEY = 'YF3AT50B62HBILA1'\n",
    "\n",
    "stock_symbols = [\n",
    "    \"PG\", \"PM\", \"PYPL\", \"QCOM\", \"RTX\", \"SBUX\", \"SLB\", \"SO\", \"SPG\", \"T\", \n",
    "    \"TGT\", \"TMO\", \"TXN\", \"UNH\", \"UNP\", \"UPS\", \"USB\", \"V\", \"VZ\", \"WBA\",\n",
    "    \"WFC\", \"WMT\", \"XOM\", \"CRM\", \"TSLA\"\n",
    "]\n",
    "\n",
    "\n",
    "API_URL_TEMPLATE = 'https://www.alphavantage.co/query?function=TIME_SERIES_DAILY&symbol={symbol}&outputsize=full&apikey={api_key}'\n",
    "\n",
    "\n",
    "for symbol in stock_symbols:\n",
    "    api_url = API_URL_TEMPLATE.format(symbol=symbol, api_key = API_KEY)\n",
    "\n",
    "    response = requests.get(api_url)\n",
    "    data = response.json()\n",
    "\n",
    "    time_series = 'Time Series (Daily)'\n",
    "    \n",
    "    if time_series in data:\n",
    "        df = pd.DataFrame(data[time_series]).T\n",
    "        df.columns = ['open', 'high', 'low', 'close', 'volume']\n",
    "        df.index = pd.to_datetime(df.index)\n",
    "        df = df.astype({'open' : 'float', 'high' : 'float', 'low' : 'float', 'close' : 'float', 'volume' : 'float'})\n",
    "        \n",
    "        start_date = datetime(2022, 1, 1)\n",
    "        end_date = datetime(2024, 1, 1)\n",
    "\n",
    "        custom_df = df[(df.index >= start_date) & (df.index <= end_date)]\n",
    "        custom_df.to_csv(f'{symbol}_data.csv')\n",
    "        \n",
    "        print(f\"Data saved for {symbol}\")\n",
    "    else:\n",
    "        print(f\"Failed to fetch data for {symbol}. Please check the symbol or your API limit.\")\n",
    "\n"
   ]
  },
  {
   "cell_type": "markdown",
   "metadata": {},
   "source": [
    "### Pre-processing and Arranging"
   ]
  },
  {
   "cell_type": "code",
   "execution_count": null,
   "metadata": {},
   "outputs": [],
   "source": []
  },
  {
   "cell_type": "markdown",
   "metadata": {},
   "source": [
    "## Indicators"
   ]
  },
  {
   "cell_type": "code",
   "execution_count": null,
   "metadata": {},
   "outputs": [],
   "source": []
  }
 ],
 "metadata": {
  "kernelspec": {
   "display_name": "Python 3",
   "language": "python",
   "name": "python3"
  },
  "language_info": {
   "codemirror_mode": {
    "name": "ipython",
    "version": 3
   },
   "file_extension": ".py",
   "mimetype": "text/x-python",
   "name": "python",
   "nbconvert_exporter": "python",
   "pygments_lexer": "ipython3",
   "version": "3.11.5"
  }
 },
 "nbformat": 4,
 "nbformat_minor": 2
}
